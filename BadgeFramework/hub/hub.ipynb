{
 "cells": [
  {
   "cell_type": "code",
   "execution_count": 1,
   "metadata": {
    "tags": []
   },
   "outputs": [],
   "source": [
    "%load_ext autoreload\n",
    "%autoreload 2"
   ]
  },
  {
   "cell_type": "code",
   "execution_count": 2,
   "metadata": {},
   "outputs": [],
   "source": [
    "import time\n",
    "import ipywidgets as widgets\n",
    "import sys\n",
    "sys.path.append('..')"
   ]
  },
  {
   "cell_type": "code",
   "execution_count": 3,
   "metadata": {},
   "outputs": [],
   "source": [
    "from dummy import DummyConnection\n",
    "from hub_utils import Synchronizer"
   ]
  },
  {
   "cell_type": "code",
   "execution_count": 12,
   "metadata": {
    "tags": []
   },
   "outputs": [],
   "source": [
    "# created the Connection objects from a file with device mappings\n",
    "midges = DummyConnection.from_mapping_file('../mappings_all.csv')\n",
    "# the syncer object keeps the set of midges (Connections) in sync in a separate thread\n",
    "syncer = Synchronizer(midges)"
   ]
  },
  {
   "cell_type": "code",
   "execution_count": 13,
   "metadata": {},
   "outputs": [
    {
     "output_type": "execute_result",
     "data": {
      "text/plain": "[<dummy.DummyConnection instance at 0x1117a94b0>,\n <dummy.DummyConnection instance at 0x1117a9870>]"
     },
     "metadata": {},
     "execution_count": 13
    }
   ],
   "source": [
    "midges"
   ]
  },
  {
   "cell_type": "code",
   "execution_count": 38,
   "metadata": {
    "tags": []
   },
   "outputs": [],
   "source": [
    "# start recording\n",
    "for midge in midges:\n",
    "    midge.start()"
   ]
  },
  {
   "cell_type": "code",
   "execution_count": 43,
   "metadata": {
    "tags": []
   },
   "outputs": [],
   "source": [
    "syncer.start()"
   ]
  },
  {
   "cell_type": "code",
   "execution_count": 41,
   "metadata": {},
   "outputs": [
    {
     "output_type": "display_data",
     "data": {
      "application/vnd.jupyter.widget-view+json": {
       "model_id": "e9fc7105f05f4dd2aaaf9d0f96dbc597",
       "version_minor": 0,
       "version_major": 2
      },
      "text/plain": "SEJveChjaGlsZHJlbj0oVG9nZ2xlQnV0dG9uKHZhbHVlPUZhbHNlLCBidXR0b25fc3R5bGU9dSdzdWNjZXNzJywgZGVzY3JpcHRpb249dSdNSUMnLCBpY29uPXUnY2hlY2snLCB0b29sdGlwPXXigKY=\n"
     },
     "metadata": {}
    }
   ],
   "source": [
    "midges[0].show()"
   ]
  },
  {
   "cell_type": "code",
   "execution_count": 42,
   "metadata": {},
   "outputs": [
    {
     "output_type": "display_data",
     "data": {
      "application/vnd.jupyter.widget-view+json": {
       "model_id": "f7b18bb553c6476b8a956c1fff35a829",
       "version_minor": 0,
       "version_major": 2
      },
      "text/plain": "SEJveChjaGlsZHJlbj0oVG9nZ2xlQnV0dG9uKHZhbHVlPUZhbHNlLCBidXR0b25fc3R5bGU9dSdzdWNjZXNzJywgZGVzY3JpcHRpb249dSdNSUMnLCBpY29uPXUnY2hlY2snLCB0b29sdGlwPXXigKY=\n"
     },
     "metadata": {}
    }
   ],
   "source": [
    "midges[1].show()"
   ]
  },
  {
   "cell_type": "code",
   "execution_count": null,
   "metadata": {},
   "outputs": [],
   "source": []
  },
  {
   "cell_type": "code",
   "execution_count": 40,
   "metadata": {
    "tags": []
   },
   "outputs": [],
   "source": [
    "# stop syncing\n",
    "syncer.stop()"
   ]
  }
 ],
 "metadata": {
  "language_info": {
   "codemirror_mode": {
    "name": "ipython",
    "version": 3
   },
   "file_extension": ".py",
   "mimetype": "text/x-python",
   "name": "python",
   "nbconvert_exporter": "python",
   "pygments_lexer": "ipython3",
   "version": "2.7.18-final"
  },
  "orig_nbformat": 2,
  "kernelspec": {
   "name": "python_defaultSpec_1595613036789",
   "display_name": "Python 2.7.18 64-bit"
  }
 },
 "nbformat": 4,
 "nbformat_minor": 2
}