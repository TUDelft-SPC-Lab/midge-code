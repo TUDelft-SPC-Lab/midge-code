{
 "cells": [
  {
   "cell_type": "code",
   "execution_count": 1,
   "metadata": {
    "tags": []
   },
   "outputs": [],
   "source": [
    "%load_ext autoreload\n",
    "%autoreload 2"
   ]
  },
  {
   "cell_type": "code",
   "execution_count": 2,
   "metadata": {},
   "outputs": [],
   "source": [
    "import time\n",
    "import ipywidgets as widgets\n",
    "import sys\n",
    "sys.path.append('..')"
   ]
  },
  {
   "cell_type": "code",
   "execution_count": 3,
   "metadata": {},
   "outputs": [],
   "source": [
    "from dummy import DummyConnection\n",
    "from hub_connection_V1 import Connection\n",
    "from hub_utils import Synchronizer"
   ]
  },
  {
   "cell_type": "code",
   "execution_count": 4,
   "metadata": {
    "tags": []
   },
   "outputs": [],
   "source": [
    "# created the Connection objects from a file with device mappings\n",
    "midges = Connection.from_mapping_file('../mappings_all.csv')\n",
    "# the syncer object keeps the set of midges (Connections) in sync in a separate thread\n",
    "syncer = Synchronizer(midges)"
   ]
  },
  {
   "cell_type": "code",
   "execution_count": 5,
   "metadata": {},
   "outputs": [
    {
     "output_type": "execute_result",
     "data": {
      "text/plain": "[<hub_connection_V1.Connection instance at 0x7fe818298dc0>,\n <hub_connection_V1.Connection instance at 0x7fe818298c30>]"
     },
     "metadata": {},
     "execution_count": 5
    }
   ],
   "source": [
    "midges"
   ]
  },
  {
   "cell_type": "code",
   "execution_count": 7,
   "metadata": {
    "tags": []
   },
   "outputs": [
    {
     "output_type": "stream",
     "name": "stdout",
     "text": "Could not start MIDGE 22\nCould not connect to participant 22, error:Could not connect to participant 22, error:Failed to connect to peripheral fb:42:af:eb:ba:3c, addr type: random\nCould not start MIDGE 36\nCould not connect to participant 36, error:Could not connect to participant 36, error:Failed to connect to peripheral dc:bc:ed:19:1f:09, addr type: random\n"
    }
   ],
   "source": [
    "# start recording\n",
    "for midge in midges:\n",
    "    midge.start()"
   ]
  },
  {
   "cell_type": "code",
   "execution_count": 8,
   "metadata": {
    "tags": []
   },
   "outputs": [],
   "source": [
    "syncer.start()"
   ]
  },
  {
   "cell_type": "code",
   "execution_count": 9,
   "metadata": {},
   "outputs": [
    {
     "output_type": "display_data",
     "data": {
      "application/vnd.jupyter.widget-view+json": {
       "model_id": "153031afb5ae43aa898b8c03a7635c63",
       "version_minor": 0,
       "version_major": 2
      },
      "text/plain": "SEJveChjaGlsZHJlbj0oVG9nZ2xlQnV0dG9uKHZhbHVlPUZhbHNlLCBidXR0b25fc3R5bGU9dSdpbmZvJywgZGVzY3JpcHRpb249dSdNSUMnLCBpY29uPXUnY2hlY2snLCB0b29sdGlwPXUnRGXigKY=\n"
     },
     "metadata": {}
    }
   ],
   "source": [
    "# this should show a live widget with the MIDGE status\n",
    "midges[0].show()"
   ]
  },
  {
   "cell_type": "code",
   "execution_count": 10,
   "metadata": {},
   "outputs": [
    {
     "output_type": "display_data",
     "data": {
      "application/vnd.jupyter.widget-view+json": {
       "model_id": "b2e4fe8d8f47475a8aa09c7b9574e5b5",
       "version_minor": 0,
       "version_major": 2
      },
      "text/plain": "SEJveChjaGlsZHJlbj0oVG9nZ2xlQnV0dG9uKHZhbHVlPUZhbHNlLCBidXR0b25fc3R5bGU9dSdpbmZvJywgZGVzY3JpcHRpb249dSdNSUMnLCBpY29uPXUnY2hlY2snLCB0b29sdGlwPXUnRGXigKY=\n"
     },
     "metadata": {}
    }
   ],
   "source": [
    "midges[1].show()"
   ]
  },
  {
   "cell_type": "code",
   "execution_count": null,
   "metadata": {},
   "outputs": [],
   "source": []
  },
  {
   "cell_type": "code",
   "execution_count": 14,
   "metadata": {
    "tags": []
   },
   "outputs": [],
   "source": [
    "# stop syncing\n",
    "syncer.stop()"
   ]
  },
  {
   "cell_type": "code",
   "execution_count": null,
   "metadata": {},
   "outputs": [],
   "source": []
  }
 ],
 "metadata": {
  "language_info": {
   "codemirror_mode": {
    "name": "ipython",
    "version": 3
   },
   "file_extension": ".py",
   "mimetype": "text/x-python",
   "name": "python",
   "nbconvert_exporter": "python",
   "pygments_lexer": "ipython3",
   "version": "2.7.17-final"
  },
  "orig_nbformat": 2,
  "kernelspec": {
   "name": "python271764bit860b3f37bd974b2b8aece9a6c94032d2",
   "display_name": "Python 2.7.17 64-bit"
  }
 },
 "nbformat": 4,
 "nbformat_minor": 2
}